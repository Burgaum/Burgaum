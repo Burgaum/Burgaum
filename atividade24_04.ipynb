{
  "nbformat": 4,
  "nbformat_minor": 0,
  "metadata": {
    "colab": {
      "provenance": []
    },
    "kernelspec": {
      "name": "python3",
      "display_name": "Python 3"
    },
    "language_info": {
      "name": "python"
    }
  },
  "cells": [
    {
      "cell_type": "code",
      "execution_count": null,
      "metadata": {
        "id": "fHk6e-lt0TvN"
      },
      "outputs": [],
      "source": [
        "minhaLista = [76,92.3,\"oi\", True, 4, 76]\n",
        "b = [\"pitomba\",76]\n",
        "soma = minhaLista + b\n",
        "print(soma)\n",
        "\n",
        "valor = [99]\n",
        "lista3 = valor + soma\n",
        "print(lista3)\n",
        "\n",
        "lista3 = [99,76,92.3,'oi',True,4,76,'pitomba',76]\n",
        "if( lista3[0] == \"oi\"):\n",
        "    print(\"o indice procurado é o zero\")\n",
        "\n",
        "elif(lista3[1] == \"oi\"):\n",
        "      print(\"o indice procurado é o primeiro\")\n",
        "\n",
        "elif(lista3[2] == \"oi\"):\n",
        "      print(\"o indice procurado é o segundo\")\n",
        "\n",
        "elif(lista3[3] == \"oi\"):\n",
        "      print(\"o indice procurado é o terceiro\")\n",
        "\n",
        "elif(lista3[4] == \"oi\"):\n",
        "      print(\"o indice procurado é o quatro\")\n",
        "\n",
        "elif(lista3[5] == \"oi\"):\n",
        "      print(\"o indice procurado é o quinto\")\n",
        "\n",
        "lista3 = (lista3[:4] + lista3[5:])\n",
        "print(lista3)"
      ]
    }
  ]
}