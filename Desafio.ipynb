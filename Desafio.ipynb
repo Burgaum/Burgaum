{
  "nbformat": 4,
  "nbformat_minor": 0,
  "metadata": {
    "colab": {
      "provenance": []
    },
    "kernelspec": {
      "name": "python3",
      "display_name": "Python 3"
    },
    "language_info": {
      "name": "python"
    }
  },
  "cells": [
    {
      "cell_type": "code",
      "execution_count": null,
      "metadata": {
        "colab": {
          "base_uri": "https://localhost:8080/"
        },
        "id": "QMOf3HVRJ3jk",
        "outputId": "8ea3ff19-36d2-497e-9d90-d67bc38e2e4c"
      },
      "outputs": [
        {
          "output_type": "stream",
          "name": "stdout",
          "text": [
            "Digite o ano do carro: 1870\n",
            "Digite o valor do carro: 15000\n",
            "O imposto do carro é: 150.0\n"
          ]
        }
      ],
      "source": [
        "ano = int(input(\"Digite o ano do carro: \"))\n",
        "preco = float(input(\"Digite o valor do carro: \"))\n",
        "\n",
        "if ano >= 1990:\n",
        "  print(\"O imposto do carro é:\", 1.5/100 * preco)\n",
        "else:\n",
        "  print(\"O imposto do carro é:\", 1/100 * preco)"
      ]
    },
    {
      "cell_type": "code",
      "source": [
        "salario = float(input(\"Digite o salário: \"))\n",
        "cargo = (input(\"Digite o cargo: \"))\n",
        "\n",
        "if cargo == \"Gerente\":\n",
        "  print(\"Seu salário antigo era:\", salario)\n",
        "  print(\"O aumento do salário do Gerente é:\", 10/100*salario)\n",
        "  print(\"O seu novo salário é:\", salario + 10/100*salario)\n",
        "elif cargo == \"Engenheiro\":\n",
        "  print(\"Seu salário antigo era:\", salario)\n",
        "  print(\"O aumento do salário do Engenheiro é:\", 20/100*salario)\n",
        "  print(\"O seu novo salário é:\", salario + 20/100*salario)\n",
        "elif cargo == \"Tecnico\":\n",
        "  print(\"Seu salário antigo era:\", salario)\n",
        "  print(\"O aumento do salário do Tecnico é:\", 30/100*salario)\n",
        "  print(\"O seu novo salário é:\", salario + 30/100*salario)\n",
        "else:\n",
        "  print(\"Seu salário antigo era:\", salario)\n",
        "  print(\"O aumento do salário é:\", 40/100*salario)\n",
        "  print(\"O seu novo salário é:\", salario + 40/100*salario)"
      ],
      "metadata": {
        "id": "BROfYSs4SCdt",
        "colab": {
          "base_uri": "https://localhost:8080/"
        },
        "outputId": "d8504462-c0c0-4eda-8dff-b7ff62186d21"
      },
      "execution_count": 9,
      "outputs": [
        {
          "output_type": "stream",
          "name": "stdout",
          "text": [
            "Digite o salário: 3000\n",
            "Digite o cargo: Tecnico\n",
            "Seu salário antigo era: 3000.0\n",
            "O aumento do salário do Tecnico é: 900.0\n",
            "O seu novo salário é: 3900.0\n"
          ]
        }
      ]
    }
  ]
}