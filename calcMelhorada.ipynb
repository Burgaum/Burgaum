{
  "nbformat": 4,
  "nbformat_minor": 0,
  "metadata": {
    "colab": {
      "provenance": []
    },
    "kernelspec": {
      "name": "python3",
      "display_name": "Python 3"
    },
    "language_info": {
      "name": "python"
    }
  },
  "cells": [
    {
      "cell_type": "code",
      "execution_count": 8,
      "metadata": {
        "colab": {
          "base_uri": "https://localhost:8080/"
        },
        "id": "TXkxPJ7ZdYcw",
        "outputId": "8b121cc3-e6ba-4922-d5a3-26bc4caeb839"
      },
      "outputs": [
        {
          "output_type": "stream",
          "name": "stdout",
          "text": [
            "+===================+\n",
            "| Menu de Operações |\n",
            "|  1 - Somar        |\n",
            "|  2 - Subtrair     |\n",
            "|  3 - Multiplicar  |\n",
            "|  4 - Dividir      |\n",
            "|  5 - Raiz         |\n",
            "|  6 - Potencia     |\n",
            "|  0 - Sair         |\n",
            "+===================+\n",
            "Digite a operação desejada: 6\n",
            "Digite o primeiro número: 5.3\n",
            "Digite o segundo número: 2\n",
            "O resultado da potenciação é:  28.09\n"
          ]
        }
      ],
      "source": [
        "def soma(n1, n2):\n",
        "  return n1 + n2\n",
        "\n",
        "def subtrai(n1, n2):\n",
        "  return n1 - n2\n",
        "\n",
        "def multiplica(n1, n2):\n",
        "  return n1*n2\n",
        "\n",
        "def divide(n1, n2):\n",
        "  return n1/n2\n",
        "\n",
        "def raiz(n1):\n",
        "  return n1**(1/2)\n",
        "\n",
        "def potencia(n1, n2):\n",
        "  return n1 ** n2\n",
        "\n",
        "while True:\n",
        "  print(\"+===================+\")\n",
        "  print(\"| Menu de Operações |\")\n",
        "  print(\"|  1 - Somar        |\")\n",
        "  print(\"|  2 - Subtrair     |\")\n",
        "  print(\"|  3 - Multiplicar  |\")\n",
        "  print(\"|  4 - Dividir      |\")\n",
        "  print(\"|  5 - Raiz         |\")\n",
        "  print(\"|  6 - Potencia     |\")\n",
        "  print(\"|  0 - Sair         |\")\n",
        "  print(\"+===================+\")\n",
        "\n",
        "  op = int(input(\"Digite a operação desejada: \"))\n",
        "\n",
        "  n1 = float(input(\"Digite o primeiro número: \"))\n",
        "  n2 = float(input(\"Digite o segundo número: \"))\n",
        "\n",
        "  if op == 1:\n",
        "    print(\"O resultado da soma é: \", soma(n1, n2))\n",
        "    break\n",
        "  elif op == 2:\n",
        "    print(\"O resultado da subtração é: \", subtrai(n1, n2))\n",
        "    break\n",
        "  elif op == 3:\n",
        "    print(\"O resultado da multiplicação é: \", multiplica(n1, n2))\n",
        "    break\n",
        "  elif op == 4:\n",
        "    print(\"O resultado da divisão é: \", divide(n1, n2))\n",
        "    break\n",
        "  elif op == 5:\n",
        "    print(\"O resultado da raiz quadrada é: \", raiz(n1))\n",
        "    break\n",
        "  elif op == 6:\n",
        "    print(\"O resultado da potenciação é: \", potencia(n1, n2)) # n1 = base e n2 = expoente\n",
        "    break\n",
        "  else:\n",
        "    print(\"Operação inválida\")\n",
        "    break"
      ]
    }
  ]
}