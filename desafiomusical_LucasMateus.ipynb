{
  "nbformat": 4,
  "nbformat_minor": 0,
  "metadata": {
    "colab": {
      "provenance": []
    },
    "kernelspec": {
      "name": "python3",
      "display_name": "Python 3"
    },
    "language_info": {
      "name": "python"
    }
  },
  "cells": [
    {
      "cell_type": "code",
      "execution_count": null,
      "metadata": {
        "colab": {
          "base_uri": "https://localhost:8080/"
        },
        "id": "PI1WG2QTD5x-",
        "outputId": "34802a38-71d1-4b82-b156-fa491e34eced"
      },
      "outputs": [
        {
          "output_type": "stream",
          "name": "stdout",
          "text": [
            "5 patinhos foram passear, além das montanhas para brincar, a mamãe gritou: Quá, quá quá, quá, mas só 4 patinhos voltaram de lá\n",
            "4 patinhos foram passear, além das montanhas para brincar, a mamãe gritou: Quá, quá quá, quá, mas só 3 patinhos voltaram de lá\n",
            "3 patinhos foram passear, além das montanhas para brincar, a mamãe gritou: Quá, quá quá, quá, mas só 2 patinhos voltaram de lá\n",
            "2 patinhos foram passear, além das montanhas para brincar, a mamãe gritou: Quá, quá quá, quá, mas só 1 patinhos voltaram de lá\n",
            "1 patinho foi passear, além das montanhas para brincar, A mamãe gritou: Quá, quá quá, quá, mas nenhum patinho voltou de lá\n"
          ]
        }
      ],
      "source": [
        "for patos in [5,4,3,2,1]:\n",
        "    if patos == 1:\n",
        "        print(patos,\"patinho foi passear, além das montanhas para brincar, A mamãe gritou: Quá, quá quá, quá, mas nenhum patinho voltou de lá\")\n",
        "    else:\n",
        "          print(patos,\"patinhos foram passear, além das montanhas para brincar, a mamãe gritou: Quá, quá quá, quá, mas só\", patos -1, \"patinhos voltaram de lá\")"
      ]
    },
    {
      "cell_type": "code",
      "source": [
        "#Elefantes crescente\n",
        "incomodam = \"incomodam, \"\n",
        "for n in [1,2,3,4,5,6,7,8,9,10]:\n",
        "    if n == 1:\n",
        "      print(n,\"Elefante incomoda muita gente\")\n",
        "    elif n % 2 == 0:\n",
        "      print(n,\"elefantes\" , incomodam * n, \"Muito mais\")\n",
        "    else:\n",
        "      print(n,\"Elefantes incomodam muita gente\")"
      ],
      "metadata": {
        "colab": {
          "base_uri": "https://localhost:8080/"
        },
        "id": "WxgWyafuFg6Y",
        "outputId": "4da0be9f-2360-4d4c-de2f-7ab6b9ce8c47"
      },
      "execution_count": 37,
      "outputs": [
        {
          "output_type": "stream",
          "name": "stdout",
          "text": [
            "1 Elefante incomoda muita gente\n",
            "2 elefantes incomodam, incomodam,  Muito mais\n",
            "3 Elefantes incomodam muita gente\n",
            "4 elefantes incomodam, incomodam, incomodam, incomodam,  Muito mais\n",
            "5 Elefantes incomodam muita gente\n",
            "6 elefantes incomodam, incomodam, incomodam, incomodam, incomodam, incomodam,  Muito mais\n",
            "7 Elefantes incomodam muita gente\n",
            "8 elefantes incomodam, incomodam, incomodam, incomodam, incomodam, incomodam, incomodam, incomodam,  Muito mais\n",
            "9 Elefantes incomodam muita gente\n",
            "10 elefantes incomodam, incomodam, incomodam, incomodam, incomodam, incomodam, incomodam, incomodam, incomodam, incomodam,  Muito mais\n"
          ]
        }
      ]
    },
    {
      "cell_type": "code",
      "source": [
        "#Elefantes decrescente\n",
        "for n in [10,9,8,7,6,5,4,3,2,1]:\n",
        "    incomodam = \"incomodam, \"\n",
        "    incomoda = \"incomoda\"\n",
        "    if n == 1:\n",
        "     print(n,\"elefante\", incomoda * n,\"muito menos\")\n",
        "    elif n % 2 != 0:\n",
        "     print(n,\"elefantes\", incomodam * n,\"muito menos\")\n",
        "    else:\n",
        "     print(n,\"elefantes incomodam muita gente\")"
      ],
      "metadata": {
        "colab": {
          "base_uri": "https://localhost:8080/"
        },
        "id": "eci8BO4YGu6R",
        "outputId": "aed8cfad-de71-4c1c-8a26-1c37fd805335"
      },
      "execution_count": 40,
      "outputs": [
        {
          "output_type": "stream",
          "name": "stdout",
          "text": [
            "10 elefantes incomodam muita gente\n",
            "9 elefantes incomodam, incomodam, incomodam, incomodam, incomodam, incomodam, incomodam, incomodam, incomodam,  muito menos\n",
            "8 elefantes incomodam muita gente\n",
            "7 elefantes incomodam, incomodam, incomodam, incomodam, incomodam, incomodam, incomodam,  muito menos\n",
            "6 elefantes incomodam muita gente\n",
            "5 elefantes incomodam, incomodam, incomodam, incomodam, incomodam,  muito menos\n",
            "4 elefantes incomodam muita gente\n",
            "3 elefantes incomodam, incomodam, incomodam,  muito menos\n",
            "2 elefantes incomodam muita gente\n",
            "1 elefante incomoda muito menos\n"
          ]
        }
      ]
    },
    {
      "cell_type": "code",
      "source": [
        "marianaNumero = [1,2,3,4,5,6,7,8,9,10]\n",
        "n= 1\n",
        "for n in marianaNumero:\n",
        "    if n ==1:\n",
        "        print(\"Mariana conta\", (n), \"Mariana conta\", (n), \"é\", (n), \"é\", (n), \"Ana, viva a mariana, viva a mariana\")\n",
        "    else:\n",
        "        print(f\"Mariana conta\", (n), \"Mariana conta\", (n), \"é\", marianaNumero[0:n], \" Ana, viva a mariana, viva a mariana\")"
      ],
      "metadata": {
        "colab": {
          "base_uri": "https://localhost:8080/"
        },
        "id": "NFdc9V0RHPKx",
        "outputId": "4822207f-997f-48d2-ebb2-488323ad063f"
      },
      "execution_count": 39,
      "outputs": [
        {
          "output_type": "stream",
          "name": "stdout",
          "text": [
            "Mariana conta 1 Mariana conta 1 é 1 é 1 Ana, viva a mariana, viva a mariana\n",
            "Mariana conta 2 Mariana conta 2 é [1, 2]  Ana, viva a mariana, viva a mariana\n",
            "Mariana conta 3 Mariana conta 3 é [1, 2, 3]  Ana, viva a mariana, viva a mariana\n",
            "Mariana conta 4 Mariana conta 4 é [1, 2, 3, 4]  Ana, viva a mariana, viva a mariana\n",
            "Mariana conta 5 Mariana conta 5 é [1, 2, 3, 4, 5]  Ana, viva a mariana, viva a mariana\n",
            "Mariana conta 6 Mariana conta 6 é [1, 2, 3, 4, 5, 6]  Ana, viva a mariana, viva a mariana\n",
            "Mariana conta 7 Mariana conta 7 é [1, 2, 3, 4, 5, 6, 7]  Ana, viva a mariana, viva a mariana\n",
            "Mariana conta 8 Mariana conta 8 é [1, 2, 3, 4, 5, 6, 7, 8]  Ana, viva a mariana, viva a mariana\n",
            "Mariana conta 9 Mariana conta 9 é [1, 2, 3, 4, 5, 6, 7, 8, 9]  Ana, viva a mariana, viva a mariana\n",
            "Mariana conta 10 Mariana conta 10 é [1, 2, 3, 4, 5, 6, 7, 8, 9, 10]  Ana, viva a mariana, viva a mariana\n"
          ]
        }
      ]
    }
  ]
}