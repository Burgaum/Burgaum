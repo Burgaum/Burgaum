{
  "nbformat": 4,
  "nbformat_minor": 0,
  "metadata": {
    "colab": {
      "provenance": []
    },
    "kernelspec": {
      "name": "python3",
      "display_name": "Python 3"
    },
    "language_info": {
      "name": "python"
    }
  },
  "cells": [
    {
      "cell_type": "code",
      "execution_count": null,
      "metadata": {
        "colab": {
          "base_uri": "https://localhost:8080/"
        },
        "id": "8RXdZkv9Z_Vu",
        "outputId": "7c67f049-19d1-4e27-945e-538166f9e03f"
      },
      "outputs": [
        {
          "output_type": "stream",
          "name": "stdout",
          "text": [
            "[4, 2, 8, 6, 5, 'Cibele']\n"
          ]
        }
      ],
      "source": [
        "uma_lista = [4,2,8,6,5]\n",
        "uma_lista = uma_lista + [\"Cibele\"]\n",
        "print(uma_lista)"
      ]
    },
    {
      "cell_type": "code",
      "source": [
        "tupla_numeros = (10,20,30)\n",
        "tupla_numeros"
      ],
      "metadata": {
        "colab": {
          "base_uri": "https://localhost:8080/"
        },
        "id": "D-uo7_iVaky3",
        "outputId": "d143f067-2fe0-4c9a-8103-142bda7d90e9"
      },
      "execution_count": null,
      "outputs": [
        {
          "output_type": "execute_result",
          "data": {
            "text/plain": [
              "(10, 20, 30)"
            ]
          },
          "metadata": {},
          "execution_count": 2
        }
      ]
    },
    {
      "cell_type": "code",
      "source": [
        "tupla_elemento = 10,"
      ],
      "metadata": {
        "id": "TgOPlsaXbgs1"
      },
      "execution_count": null,
      "outputs": []
    },
    {
      "cell_type": "code",
      "source": [
        "nova_tupla = tuple(\"Teste\")\n",
        "nova_tupla"
      ],
      "metadata": {
        "colab": {
          "base_uri": "https://localhost:8080/"
        },
        "id": "U8wqMTbbbl1v",
        "outputId": "a837495a-949e-4dd7-ecc2-130b7fd647bf"
      },
      "execution_count": null,
      "outputs": [
        {
          "output_type": "execute_result",
          "data": {
            "text/plain": [
              "('T', 'e', 's', 't', 'e')"
            ]
          },
          "metadata": {},
          "execution_count": 4
        }
      ]
    },
    {
      "cell_type": "code",
      "source": [
        "tupla_nomes = (\"Marlene\", \"Zezinho\", \"Marlene\", \"Cibele\",\"Zuely\")"
      ],
      "metadata": {
        "id": "e_WBF8-cb9Oc"
      },
      "execution_count": null,
      "outputs": []
    },
    {
      "cell_type": "code",
      "source": [
        "tupla_nomes.count(\"Marlene\")"
      ],
      "metadata": {
        "colab": {
          "base_uri": "https://localhost:8080/"
        },
        "id": "O8Cb6UdmcKyW",
        "outputId": "d31bb83f-e649-4260-8201-a07af46b4803"
      },
      "execution_count": null,
      "outputs": [
        {
          "output_type": "execute_result",
          "data": {
            "text/plain": [
              "2"
            ]
          },
          "metadata": {},
          "execution_count": 7
        }
      ]
    },
    {
      "cell_type": "code",
      "source": [
        "print(tupla_nomes.count(\"Suely\"))"
      ],
      "metadata": {
        "colab": {
          "base_uri": "https://localhost:8080/"
        },
        "id": "KVzudwLZcQ4M",
        "outputId": "31a9ee68-7989-4133-fcd2-60811c92b9d1"
      },
      "execution_count": null,
      "outputs": [
        {
          "output_type": "stream",
          "name": "stdout",
          "text": [
            "0\n"
          ]
        }
      ]
    },
    {
      "cell_type": "code",
      "source": [
        "print(tupla_nomes.count(\"Zezinho\"))"
      ],
      "metadata": {
        "colab": {
          "base_uri": "https://localhost:8080/"
        },
        "id": "if8MPz3ycYbt",
        "outputId": "af2acf4a-bf1d-40d2-f2db-2208e4e4ab8b"
      },
      "execution_count": null,
      "outputs": [
        {
          "output_type": "stream",
          "name": "stdout",
          "text": [
            "1\n"
          ]
        }
      ]
    },
    {
      "cell_type": "code",
      "source": [
        "tupla_numeros = (1,2,2,3,4,4,4,5)"
      ],
      "metadata": {
        "id": "m8phtGo4cm38"
      },
      "execution_count": null,
      "outputs": []
    },
    {
      "cell_type": "code",
      "source": [
        "tupla_numeros.count(4)"
      ],
      "metadata": {
        "colab": {
          "base_uri": "https://localhost:8080/"
        },
        "id": "sJTox3rtcte5",
        "outputId": "d6105f7d-07ad-42c8-e737-e8dbbc078679"
      },
      "execution_count": null,
      "outputs": [
        {
          "output_type": "execute_result",
          "data": {
            "text/plain": [
              "3"
            ]
          },
          "metadata": {},
          "execution_count": 11
        }
      ]
    }
  ]
}