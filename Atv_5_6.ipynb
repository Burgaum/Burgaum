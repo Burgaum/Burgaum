{
  "nbformat": 4,
  "nbformat_minor": 0,
  "metadata": {
    "colab": {
      "provenance": []
    },
    "kernelspec": {
      "name": "python3",
      "display_name": "Python 3"
    },
    "language_info": {
      "name": "python"
    }
  },
  "cells": [
    {
      "cell_type": "code",
      "execution_count": 19,
      "metadata": {
        "colab": {
          "base_uri": "https://localhost:8080/"
        },
        "id": "6UF9b0atUzzo",
        "outputId": "826c895b-da8d-4e63-93ce-b99a11cdffdb"
      },
      "outputs": [
        {
          "output_type": "stream",
          "name": "stdout",
          "text": [
            "Numero 1\n",
            "Numero 2\n",
            "Numero 3\n",
            "Numero 4\n",
            "Numero 5\n"
          ]
        }
      ],
      "source": [
        "def funcaoLeitura():\n",
        "  for num in [1,2,3,4,5]:\n",
        "    print(\"Numero\", num)\n",
        "funcaoLeitura()"
      ]
    },
    {
      "cell_type": "code",
      "source": [
        "def addNum(n1, n2):\n",
        "  print(\"O primeiro número é: \", n1)\n",
        "  print(\"O segundo número é: \", n2)\n",
        "  print(\"A soma dos números é: \", n1 + n2)\n",
        "\n",
        "addNum(2, 3)\n",
        "addNum(4, 3)\n",
        "#addNum()"
      ],
      "metadata": {
        "colab": {
          "base_uri": "https://localhost:8080/"
        },
        "id": "CWtQxCHEZ_zG",
        "outputId": "15f579b7-db28-4bc2-9598-c0458611d924"
      },
      "execution_count": 21,
      "outputs": [
        {
          "output_type": "stream",
          "name": "stdout",
          "text": [
            "O primeiro número é:  2\n",
            "O segundo número é:  3\n",
            "A soma dos números é:  5\n",
            "O primeiro número é:  4\n",
            "O segundo número é:  3\n",
            "A soma dos números é:  7\n"
          ]
        }
      ]
    },
    {
      "cell_type": "code",
      "source": [
        "varGlobal = 10 #essa é uma variável global\n",
        "def multiplicacao(num1, num2):\n",
        "  varGlobal = (num1 * num2) #essa é uma variável local\n",
        "  print(\"Variável da função Multiplica: \",varGlobal)\n",
        "\n",
        "multiplicacao(5, 4)\n",
        "print(varGlobal)"
      ],
      "metadata": {
        "colab": {
          "base_uri": "https://localhost:8080/"
        },
        "id": "GULGX8XqVtq-",
        "outputId": "2beea18e-0aaa-4e7a-917b-349e9f62f5be"
      },
      "execution_count": 22,
      "outputs": [
        {
          "output_type": "stream",
          "name": "stdout",
          "text": [
            "Variável da função Multiplica:  20\n",
            "10\n"
          ]
        }
      ]
    },
    {
      "cell_type": "code",
      "source": [
        "varGlobal = 10 #essa é uma variável global\n",
        "def multiplicacao(num1, num2):\n",
        "  varLocal = num1 * num2 #essa é uma variável local\n",
        "  print(\"Variável da função Multiplica: \",varLocal)\n",
        "\n",
        "multiplicacao(5, 4)"
      ],
      "metadata": {
        "colab": {
          "base_uri": "https://localhost:8080/"
        },
        "id": "OTLIXRIdXK0u",
        "outputId": "8ca7aab3-ae08-4deb-8fd5-8122191599aa"
      },
      "execution_count": 11,
      "outputs": [
        {
          "output_type": "stream",
          "name": "stdout",
          "text": [
            "Variável da função Multiplica:  20\n"
          ]
        }
      ]
    },
    {
      "cell_type": "code",
      "source": [
        "def separarTexto(texto):\n",
        "  return texto.split()\n",
        "\n",
        "separarTexto(\"Cibele Maria Suely\")"
      ],
      "metadata": {
        "colab": {
          "base_uri": "https://localhost:8080/"
        },
        "id": "VH7IiS2Jf3sF",
        "outputId": "1c460a6a-859f-417b-bf6d-c1b6323dedb2"
      },
      "execution_count": 33,
      "outputs": [
        {
          "output_type": "execute_result",
          "data": {
            "text/plain": [
              "['Cibele', 'Maria', 'Suely']"
            ]
          },
          "metadata": {},
          "execution_count": 33
        }
      ]
    },
    {
      "cell_type": "code",
      "source": [
        "#Quando não sabemos a quantidade de parâmetros basta usar o *\n",
        "def variosParametros(*parametros):\n",
        "  for n, item in enumerate(parametros):\n",
        "    print(\"Parâmentro\", n, item)\n",
        "  return\n",
        "\n",
        "variosParametros(\"Cibele\", \"Suely\", \"Giggio\", \"Madá\", \"Luquinhas\")\n",
        "\n",
        "#variosParametros(\"pitomba\", \"jambo\", \"siriguela\", \"umbu\")"
      ],
      "metadata": {
        "colab": {
          "base_uri": "https://localhost:8080/"
        },
        "id": "boXcPokiiCMd",
        "outputId": "42f190b7-4b8e-4b25-a30f-c4dec91bfde8"
      },
      "execution_count": 50,
      "outputs": [
        {
          "output_type": "stream",
          "name": "stdout",
          "text": [
            "Parâmentro 0 Cibele\n",
            "Parâmentro 1 Suely\n",
            "Parâmentro 2 Giggio\n",
            "Parâmentro 3 Madá\n",
            "Parâmentro 4 Luquinhas\n"
          ]
        }
      ]
    },
    {
      "cell_type": "code",
      "source": [
        "def soma(n1, n2):\n",
        "  return n1 + n2\n",
        "\n",
        "def subtrai(n1, n2):\n",
        "  return n1 - n2\n",
        "\n",
        "def multiplica(n1, n2):\n",
        "  return n1*n2\n",
        "\n",
        "def divide(n1, n2):\n",
        "  return n1/n2\n",
        "\n",
        "while True:\n",
        "  print(\"+===================+\")\n",
        "  print(\"| Menu de Operações |\")\n",
        "  print(\"|  1 - Somar        |\")\n",
        "  print(\"|  2 - Subtrair     |\")\n",
        "  print(\"|  3 - Multiplicar  |\")\n",
        "  print(\"|  4 - Dividir      |\")\n",
        "  print(\"|  0 - Sair         |\")\n",
        "  print(\"+===================+\")\n",
        "\n",
        "  op = int(input(\"Digite a operação desejada: \"))\n",
        "  if op == 0:\n",
        "    break\n",
        "\n",
        "  n1 = int(input(\"Digite o primeiro número: \"))\n",
        "  n2 = int(input(\"Digite o segundo número: \"))\n",
        "\n",
        "  if op == 1:\n",
        "    print(\"O resultado da soma é: \", soma(n1, n2))\n",
        "    break\n",
        "  elif op == 2:\n",
        "    print(\"O resultado da subtração é: \", subtrai(n1, n2))\n",
        "    break\n",
        "  elif op == 3:\n",
        "    print(\"O resultado da multiplicação é: \", multiplica(n1, n2))\n",
        "    break\n",
        "  elif op == 4:\n",
        "    print(\"O resultado da divisão é: \", divide(n1, n2))\n",
        "    break\n",
        "  else:\n",
        "    print(\"Operação inválida\")\n",
        "    break"
      ],
      "metadata": {
        "colab": {
          "base_uri": "https://localhost:8080/"
        },
        "id": "6fEexawArFSS",
        "outputId": "d960d4f1-1103-4023-b6c1-104ab208dd86"
      },
      "execution_count": 66,
      "outputs": [
        {
          "output_type": "stream",
          "name": "stdout",
          "text": [
            "+===================+\n",
            "| Menu de Operações |\n",
            "|  1 - Somar        |\n",
            "|  2 - Subtrair     |\n",
            "|  3 - Multiplicar  |\n",
            "|  4 - Dividir      |\n",
            "|  0 - Sair         |\n",
            "+===================+\n",
            "Digite a operação desejada: 2\n",
            "Digite o primeiro número: 30\n",
            "Digite o segundo número: 30\n",
            "O resultado da subtração é:  0\n"
          ]
        }
      ]
    }
  ]
}