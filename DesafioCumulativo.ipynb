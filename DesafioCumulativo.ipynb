{
  "nbformat": 4,
  "nbformat_minor": 0,
  "metadata": {
    "colab": {
      "provenance": []
    },
    "kernelspec": {
      "name": "python3",
      "display_name": "Python 3"
    },
    "language_info": {
      "name": "python"
    }
  },
  "cells": [
    {
      "cell_type": "code",
      "execution_count": 170,
      "metadata": {
        "colab": {
          "base_uri": "https://localhost:8080/"
        },
        "id": "jiKXoGf6v_mt",
        "outputId": "a6a5f1ef-1ba8-4b89-e3ec-9a32ceac5fb7"
      },
      "outputs": [
        {
          "output_type": "stream",
          "name": "stdout",
          "text": [
            "Digite uma letra: r\n",
            "Consoante\n"
          ]
        }
      ],
      "source": [
        "letraUsuario = input(\"Digite uma letra: \")\n",
        "\n",
        "if letraUsuario in \"aeiou\":\n",
        "  print(\"Vogal\")\n",
        "else:\n",
        "    print(\"Consoante\")"
      ]
    },
    {
      "cell_type": "code",
      "source": [
        "precoProduto1 = float(input(\"Digite o preço do primeiro produto: \"))\n",
        "precoProduto2 = float(input(\"Digite o preço do segundo produto: \"))\n",
        "precoProduto3 = float(input(\"Digite o preço do terceiro produto: \"))\n",
        "\n",
        "if precoProduto1 <= precoProduto2 and precoProduto1 <= precoProduto3:\n",
        "    produtoMaisBarato = \"primeiro produto\"\n",
        "    precoMaisBarato = precoProduto1\n",
        "elif precoProduto2 <= precoProduto1 and precoProduto2 <= precoProduto3:\n",
        "    produtoMaisBarato = \"segundo produto\"\n",
        "    precoMaisBarato = precoProduto2\n",
        "else:\n",
        "    produtoMaisBarato = \"terceiro produto\"\n",
        "    precoMaisBarato = precoProduto3\n",
        "\n",
        "print(\"O produto mais barato é o\", produtoMaisBarato, \"e ele custa R$\", precoMaisBarato)"
      ],
      "metadata": {
        "colab": {
          "base_uri": "https://localhost:8080/"
        },
        "id": "m8FQUQ0_xyHL",
        "outputId": "d90f3f1e-bcc7-4d5f-cef2-7244a28b65bc"
      },
      "execution_count": 178,
      "outputs": [
        {
          "output_type": "stream",
          "name": "stdout",
          "text": [
            "Digite o preço do primeiro produto: 57\n",
            "Digite o preço do segundo produto: 54\n",
            "Digite o preço do terceiro produto: 52\n",
            "O produto mais barato é o terceiro produto ele custa R$ 52.0\n"
          ]
        }
      ]
    },
    {
      "cell_type": "code",
      "source": [
        "numero1 = float(input(\"Digite o primeiro número: \"))\n",
        "numero2 = float(input(\"Digite o segundo número: \"))\n",
        "numero3 = float(input(\"Digite o terceiro número: \"))\n",
        "\n",
        "if numero1 >= numero2 and numero1 >= numero3:\n",
        "    maior = numero1\n",
        "    if numero2 >= numero3:\n",
        "        doMeio = numero2\n",
        "        menor = numero3\n",
        "    else:\n",
        "        doMeio = numero3\n",
        "        menor = numero2\n",
        "elif numero2 >= numero1 and numero2 >= numero3:\n",
        "    maior = numero2\n",
        "    if numero1 >= numero3:\n",
        "        doMeio = numero1\n",
        "        menor = numero3\n",
        "    else:\n",
        "        doMeio = numero3\n",
        "        menor = numero1\n",
        "else:\n",
        "    maior = numero3\n",
        "    if numero1 >= numero2:\n",
        "        doMeio = numero1\n",
        "        menor = numero2\n",
        "    else:\n",
        "        doMeio = numero2\n",
        "        menor = numero1\n",
        "\n",
        "print(\"Números em ordem decrescente:\", maior, doMeio, menor)"
      ],
      "metadata": {
        "colab": {
          "base_uri": "https://localhost:8080/"
        },
        "id": "Qyy2wVBX3Kgf",
        "outputId": "da076661-5949-4003-d821-5d0d43d93cbd"
      },
      "execution_count": 164,
      "outputs": [
        {
          "output_type": "stream",
          "name": "stdout",
          "text": [
            "Digite o primeiro número: 5\n",
            "Digite o segundo número: 98\n",
            "Digite o terceiro número: 56\n",
            "Números em ordem decrescente: 98.0 56.0 5.0\n"
          ]
        }
      ]
    },
    {
      "cell_type": "code",
      "source": [
        "turno = input(\"Digite seu turno (M-matutino, V-vespertino, N-noturno): \")\n",
        "\n",
        "if turno == \"M\":\n",
        "    print(\"Bom dia!\")\n",
        "elif turno == \"V\":\n",
        "    print(\"Boa tarde!\")\n",
        "elif turno == \"N\":\n",
        "    print(\"Boa noite!\")\n",
        "else:\n",
        "    print(\"Valor inválido!\")"
      ],
      "metadata": {
        "colab": {
          "base_uri": "https://localhost:8080/"
        },
        "id": "OfoR8w0g4ONf",
        "outputId": "8ad9d8ee-cd0f-4868-9c74-d688909696aa"
      },
      "execution_count": 155,
      "outputs": [
        {
          "output_type": "stream",
          "name": "stdout",
          "text": [
            "Digite seu turno (M-matutino, V-vespertino, N-noturno): N\n",
            "Boa noite!\n"
          ]
        }
      ]
    },
    {
      "cell_type": "code",
      "source": [
        "dia = int(input(\"Digite um número correspondente ao dia da semana (1-Domingo, 2-Segunda, 3-Terça, etc: \"))\n",
        "\n",
        "if dia == 1:\n",
        "    print(\"Domingo\")\n",
        "elif dia == 2:\n",
        "    print(\"Segunda-feira\")\n",
        "elif dia == 3:\n",
        "    print(\"Terça-feira\")\n",
        "elif dia == 4:\n",
        "    print(\"Quarta-feira\")\n",
        "elif dia == 5:\n",
        "    print(\"Quinta-feira\")\n",
        "elif dia == 6:\n",
        "    print(\"Sexta-feira\")\n",
        "elif dia == 7:\n",
        "    print(\"Sábado\")\n",
        "else:\n",
        "    print(\"Valor inválido!\")"
      ],
      "metadata": {
        "colab": {
          "base_uri": "https://localhost:8080/"
        },
        "id": "w4B8wlcL_vcs",
        "outputId": "1c9046d8-9828-4b77-b9c1-9a33bc2def2d"
      },
      "execution_count": 152,
      "outputs": [
        {
          "output_type": "stream",
          "name": "stdout",
          "text": [
            "Digite um número correspondente ao dia da semana (1-Domingo, 2-Segunda, 3-Terça, etc: 1\n",
            "Domingo\n"
          ]
        }
      ]
    },
    {
      "cell_type": "code",
      "source": [
        "nota1 = float(input(\"Digite a primeira nota: \"))\n",
        "nota2 = float(input(\"Digite a segunda nota: \"))\n",
        "media = (nota1 + nota2) / 2\n",
        "\n",
        "if media >= 9:\n",
        "    print(\"Você foi Aprovado com conceito A\")\n",
        "elif media >= 7.5:\n",
        "   print(\"Você foi Aprovado com conceito B\")\n",
        "elif media >= 6:\n",
        "    print(\"Você foi Aprovado com conceito C\")\n",
        "elif media >= 4:\n",
        "    print(\"Você foi Reprovado com conceito D\")\n",
        "else:\n",
        "    print(\"Você foi Reprovado com conceito E\")"
      ],
      "metadata": {
        "colab": {
          "base_uri": "https://localhost:8080/"
        },
        "id": "L_gOWn8hQN7h",
        "outputId": "f51d4d57-f57c-4ae7-bb9d-d051108abe37"
      },
      "execution_count": null,
      "outputs": [
        {
          "output_type": "stream",
          "name": "stdout",
          "text": [
            "Digite a primeira nota: 9\n",
            "Digite a segunda nota: 5\n",
            "Você foi Aprovado com conceito C\n"
          ]
        }
      ]
    },
    {
      "cell_type": "code",
      "source": [
        "ano = float(input(\"Digite um ano: \"))\n",
        "\n",
        "if ano % 4 == 0 and ano % 100 != 0:\n",
        "    print(\"O ano é bissexto\")\n",
        "elif ano % 400 == 0:\n",
        "    print(\"O ano é bissexto\")\n",
        "else:\n",
        "    print(\"O ano não é bissexto.\")"
      ],
      "metadata": {
        "colab": {
          "base_uri": "https://localhost:8080/"
        },
        "id": "UA6U1xOFRpoz",
        "outputId": "6901d504-dc12-4f38-ea8c-31512aefe1e1"
      },
      "execution_count": null,
      "outputs": [
        {
          "output_type": "stream",
          "name": "stdout",
          "text": [
            "Digite um ano: 826\n",
            "O ano não é bissexto.\n"
          ]
        }
      ]
    },
    {
      "cell_type": "code",
      "source": [
        "numero1 = float(input(\"Digite o primeiro número: \"))\n",
        "numero2 = float(input(\"Digite o segundo número: \"))\n",
        "calculo = input(\"Digite o cálculo desejado (soma, subtração, multiplicação, divisão, exponenciação): \")\n",
        "\n",
        "if calculo == \"soma\":\n",
        "    resultado = numero1 + numero2\n",
        "elif calculo == \"subtração\":\n",
        "    resultado = numero1 - numero2\n",
        "elif calculo == \"multiplicação\":\n",
        "    resultado = numero1 * numero2\n",
        "elif calculo == \"divisão\":\n",
        "    resultado = numero1 / numero2\n",
        "elif calculo == \"exponenciação\":\n",
        "    resultado = numero1 ** numero2\n",
        "else:\n",
        "    print(\"Operação inválida.\")\n",
        "\n",
        "if resultado % 2 == 0:\n",
        "    parOuImpar = \"par\"\n",
        "else:\n",
        "    parOuImpar = \"ímpar\"\n",
        "\n",
        "if resultado > 0:\n",
        "    positivoOuNegativo = \"positivo\"\n",
        "elif resultado < 0:\n",
        "    positivoOuNegativo = \"negativo\"\n",
        "else:\n",
        "    positivoOuNegativo = 0\n",
        "\n",
        "if resultado == int(resultado):\n",
        "    decimalOuInteiro = \"inteiro\"\n",
        "else:\n",
        "    decimalOuInteiro = \"decimal\"\n",
        "\n",
        "\n",
        "print(\"Resultado:\", resultado, \"o número é\", parOuImpar, \"é\", positivoOuNegativo, \"e é\", decimalOuInteiro)"
      ],
      "metadata": {
        "colab": {
          "base_uri": "https://localhost:8080/"
        },
        "id": "yJBoJDlzUgBG",
        "outputId": "78ddbf80-19e3-4c5e-e896-102c14ca175f"
      },
      "execution_count": 139,
      "outputs": [
        {
          "output_type": "stream",
          "name": "stdout",
          "text": [
            "Digite o primeiro número: 39\n",
            "Digite o segundo número: 71.4\n",
            "Digite o cálculo desejado (soma, subtração, multiplicação, divisão, exponenciação): subtração\n",
            "Resultado: -32.400000000000006 o número é ímpar é negativo e é decimal\n"
          ]
        }
      ]
    },
    {
      "cell_type": "code",
      "source": [
        "idade = int(input(\"Digite sua idade: \"))\n",
        "\n",
        "if idade < 0 or idade > 150:\n",
        "    print(\"Idade não aceita\")\n",
        "else:\n",
        "    print(\"Sua idade é:\", idade)"
      ],
      "metadata": {
        "colab": {
          "base_uri": "https://localhost:8080/"
        },
        "id": "CdP-92cxuiNl",
        "outputId": "0b711915-e396-494a-835e-1c5b8bfdccf0"
      },
      "execution_count": 107,
      "outputs": [
        {
          "output_type": "stream",
          "name": "stdout",
          "text": [
            "Digite sua idade: 150\n",
            "Sua idade é: 150\n"
          ]
        }
      ]
    },
    {
      "cell_type": "code",
      "source": [
        "numeros = []\n",
        "for i in range(5):\n",
        "  numero = float(input(\"Digite os números: \"))\n",
        "  numeros.append(numero)\n",
        "\n",
        "soma = sum(numeros)\n",
        "media = soma / 5\n",
        "print(\"A somatória dos números é:\", soma)\n",
        "print(\"A média dos números é:\", media)"
      ],
      "metadata": {
        "colab": {
          "base_uri": "https://localhost:8080/"
        },
        "id": "f-v5fH_6w2xc",
        "outputId": "bbefa6bd-3f72-45ac-86dc-96db06d6c861"
      },
      "execution_count": 110,
      "outputs": [
        {
          "output_type": "stream",
          "name": "stdout",
          "text": [
            "Digite os números: 5\n",
            "Digite os números: 8\n",
            "Digite os números: 6\n",
            "Digite os números: 2\n",
            "Digite os números: 7\n",
            "A somatória dos números é: 28.0\n",
            "A média dos números é: 5.6\n"
          ]
        }
      ]
    },
    {
      "cell_type": "code",
      "source": [
        "numero = int(input(\"Digite um número: \"))\n",
        "\n",
        "if numero <= 1:\n",
        "    numeroPrimo = False\n",
        "else:\n",
        "    numeroPrimo = True\n",
        "    for i in range(2, numero):\n",
        "      if numero % i == 0:\n",
        "        numeroPrimo = False\n",
        "        break\n",
        "\n",
        "if numeroPrimo:\n",
        "    print(numero, \"é um número primo\")\n",
        "else:\n",
        "    print(numero, \"não é um número primo\")"
      ],
      "metadata": {
        "colab": {
          "base_uri": "https://localhost:8080/"
        },
        "id": "jutVWDMSzGBL",
        "outputId": "b7a28e8f-cbcc-4777-f6c3-e5ce18915abc"
      },
      "execution_count": 117,
      "outputs": [
        {
          "output_type": "stream",
          "name": "stdout",
          "text": [
            "Digite um número: 55\n",
            "55 não é um número primo\n"
          ]
        }
      ]
    },
    {
      "cell_type": "code",
      "source": [
        "temperaturas = []\n",
        "for i in range(5):\n",
        "  temperatura = float(input(\"Digite as temperaturas: \"))\n",
        "  temperaturas.append(temperatura)\n",
        "\n",
        "temperaturaMax = float(\"-inf\")\n",
        "temperaturaMin = float(\"inf\")\n",
        "\n",
        "for temperatura in temperaturas:\n",
        "  if temperatura > temperaturaMax:\n",
        "    temperaturaMax = temperatura\n",
        "  if temperatura < temperaturaMin:\n",
        "    temperaturaMin = temperatura\n",
        "\n",
        "soma = sum(temperaturas)\n",
        "media = soma / 5\n",
        "\n",
        "print(\"A temperatura máxima é:\", temperaturaMax)\n",
        "print(\"A temperatura mínima é:\", temperaturaMin)\n",
        "print(\"A média das temperaturas é:\", media)"
      ],
      "metadata": {
        "colab": {
          "base_uri": "https://localhost:8080/"
        },
        "id": "wvvJ7IiP2tsc",
        "outputId": "02febb80-caac-4395-f844-910102f91723"
      },
      "execution_count": 119,
      "outputs": [
        {
          "output_type": "stream",
          "name": "stdout",
          "text": [
            "Digite as temperaturas: 30\n",
            "Digite as temperaturas: 18\n",
            "Digite as temperaturas: 20\n",
            "Digite as temperaturas: 33\n",
            "Digite as temperaturas: 35\n",
            "A temperatura máxima é: 35.0\n",
            "A temperatura mínima é: 18.0\n",
            "A média das temperaturas é: 27.2\n"
          ]
        }
      ]
    },
    {
      "cell_type": "code",
      "source": [
        "saldoMedio = float(input(\"Digite seu saldo: \"))\n",
        "\n",
        "if saldoMedio == 0 or saldoMedio <=200:\n",
        "  print(\"Você não possui crédito\")\n",
        "elif saldoMedio == 201 or saldoMedio <=400:\n",
        "  print(\"Seu saldo médio é:\", saldoMedio, \"Você possui um crédito de 20% do saldo médio\")\n",
        "elif saldoMedio == 401 or saldoMedio <=600:\n",
        "  print(\"Seu saldo médio é:\", saldoMedio, \"Você possui um crédito de 30% do saldo médio\")\n",
        "else:\n",
        "  print(\"Seu saldo médio é:\", saldoMedio, \"Você possui um crédito de 40% do saldo médio\")"
      ],
      "metadata": {
        "colab": {
          "base_uri": "https://localhost:8080/"
        },
        "id": "KLu2UN_n6deT",
        "outputId": "0ad01f81-4143-46c5-f442-dadb8ec35c85"
      },
      "execution_count": 147,
      "outputs": [
        {
          "output_type": "stream",
          "name": "stdout",
          "text": [
            "Digite seu saldo: 500\n",
            "Seu saldo médio é: 500.0 Você possui um crédito de 30% do saldo médio\n"
          ]
        }
      ]
    },
    {
      "cell_type": "code",
      "source": [
        "nome = input(\"Digite seu nome: \")\n",
        "idade = int(input(\"Digite sua idade: \"))\n",
        "anoAposentadoria = 2024 + (65 - idade)\n",
        "\n",
        "if idade >= 65:\n",
        "  print(\"Você já pode se aposentar\")\n",
        "else:\n",
        "  print(\"Olá\", nome, \"você irá se aposentar em:\", anoAposentadoria)"
      ],
      "metadata": {
        "colab": {
          "base_uri": "https://localhost:8080/"
        },
        "id": "IihTi5SK-Xg7",
        "outputId": "a20b98c1-f1c6-44c1-de1d-b83ae490bf0d"
      },
      "execution_count": 146,
      "outputs": [
        {
          "output_type": "stream",
          "name": "stdout",
          "text": [
            "Digite seu nome: lucas\n",
            "Digite sua idade: 28\n",
            "Olá lucas você irá se aposentar em: 2061\n"
          ]
        }
      ]
    },
    {
      "cell_type": "code",
      "source": [
        "valorHoras = float(input(\"Digite o valor da hora: \"))\n",
        "quantidadeDeHoras = float(input(\"Digite a quantidade de horas trabalhadas no mês \"))\n",
        "\n",
        "salario = valorHoras * quantidadeDeHoras\n",
        "fgts = salario * 0.11\n",
        "sindicato = salario * 0.03\n",
        "\n",
        "if salario <= 2112:\n",
        "  desconto = 0\n",
        "elif salario <= 2826.65:\n",
        "  desconto = salario * 0.075\n",
        "elif salario <= 3751.05:\n",
        "  desconto = salario * 0.15\n",
        "elif salario <= 4664.68:\n",
        "  desconto = salario * 0.225\n",
        "else:\n",
        "  desconto = salario * 0.275\n",
        "\n",
        "salarioLiquido = salario - desconto - sindicato\n",
        "\n",
        "print(\"Salário Bruto: R$\", salario)\n",
        "print(\"Desconto Imposto de Renda: R$\", desconto)\n",
        "print(\"Sindicado: R$\", sindicato)\n",
        "print(\"FGTS: R$\", fgts)\n",
        "print(\"Salário Líquido: R$\", salarioLiquido)"
      ],
      "metadata": {
        "colab": {
          "base_uri": "https://localhost:8080/"
        },
        "id": "2zJQYP0ABFPZ",
        "outputId": "b8d2f359-23a6-45b0-9b8d-4d9122268cd0"
      },
      "execution_count": 134,
      "outputs": [
        {
          "output_type": "stream",
          "name": "stdout",
          "text": [
            "Digite o valor da hora: 10\n",
            "Digite a quantidade de horas trabalhadas no mês 224\n",
            "Salário Bruto: R$ 2240.0\n",
            "Desconto Imposto de Renda: R$ 168.0\n",
            "Sindicado: R$ 67.2\n",
            "FGTS: R$ 246.4\n",
            "Salário Líquido: R$ 2004.8\n"
          ]
        }
      ]
    }
  ]
}