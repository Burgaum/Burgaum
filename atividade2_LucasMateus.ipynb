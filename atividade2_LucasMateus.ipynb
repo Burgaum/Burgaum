{
  "nbformat": 4,
  "nbformat_minor": 0,
  "metadata": {
    "colab": {
      "provenance": []
    },
    "kernelspec": {
      "name": "python3",
      "display_name": "Python 3"
    },
    "language_info": {
      "name": "python"
    }
  },
  "cells": [
    {
      "cell_type": "code",
      "execution_count": 7,
      "metadata": {
        "colab": {
          "base_uri": "https://localhost:8080/"
        },
        "id": "CmxPJBuSB_Yu",
        "outputId": "92f86f19-b730-402f-e599-eb1da879b682"
      },
      "outputs": [
        {
          "output_type": "stream",
          "name": "stdout",
          "text": [
            "Digite o primeiro número inteiro: 4\n",
            "Digite o segundo número inteiro: -6\n",
            "Digite um número real: 9.5\n",
            "A soma do dobro do primeiro número com metade do segundo número é: 5.0\n",
            "O produto do primeiro número com o número real é: 38.0\n"
          ]
        }
      ],
      "source": [
        "    numInt1 = int(input(\"Digite o primeiro número inteiro: \"))\n",
        "    numInt2 = int(input(\"Digite o segundo número inteiro: \"))\n",
        "    numReal = float(input(\"Digite um número real: \"))\n",
        "\n",
        "    soma = (2 * numInt1) + (numInt2 / 2)\n",
        "\n",
        "    produto = numInt1 * numReal\n",
        "\n",
        "    print(\"A soma do dobro do primeiro número com metade do segundo número é:\", soma)\n",
        "    print(\"O produto do primeiro número com o número real é:\", produto)\n"
      ]
    },
    {
      "cell_type": "code",
      "source": [
        "    numInt1 = int(input(\"Digite o primeiro número inteiro: \"))\n",
        "    numInt2 = int(input(\"Digite o segundo número inteiro: \"))\n",
        "    numReal = float(input(\"Digite um número real: \"))\n",
        "\n",
        "    soma = (3 * numInt1) + numReal\n",
        "\n",
        "    cubo = numReal ** 3\n",
        "\n",
        "    print(\"A soma do triplo do primeiro número com o terceiro número é:\", soma)\n",
        "    print(\"O terceiro número elevado ao cubo é:\", cubo)"
      ],
      "metadata": {
        "colab": {
          "base_uri": "https://localhost:8080/"
        },
        "id": "ZUq_o8jQECuN",
        "outputId": "7c9827e1-e09e-40d8-a564-7cd29b91ddf9"
      },
      "execution_count": 10,
      "outputs": [
        {
          "output_type": "stream",
          "name": "stdout",
          "text": [
            "Digite o primeiro número inteiro: 3\n",
            "Digite o segundo número inteiro: 8\n",
            "Digite um número real: 0.4\n",
            "A soma do triplo do primeiro número com o terceiro número é: 9.4\n",
            "O terceiro número elevado ao cubo é: 0.06400000000000002\n"
          ]
        }
      ]
    },
    {
      "cell_type": "code",
      "source": [
        "    numero1 = float(input(\"Digite o primeiro número: \"))\n",
        "    numero2 = float(input(\"Digite o segundo número: \"))\n",
        "\n",
        "    if numero1 > numero2:\n",
        "        print(\"O primeiro número\", numero1, \"é maior que o segundo número\", numero2)\n",
        "    elif numero2 > numero1:\n",
        "        print(\"O segundo número\", numero2, \"é maior que o primeiro número\", numero1)\n",
        "    else:\n",
        "        print(\"Os números são iguais.\")"
      ],
      "metadata": {
        "colab": {
          "base_uri": "https://localhost:8080/"
        },
        "id": "w6ebpnE1IBhe",
        "outputId": "da4031bb-3442-4a5d-d809-9ec8e6076596"
      },
      "execution_count": 12,
      "outputs": [
        {
          "output_type": "stream",
          "name": "stdout",
          "text": [
            "Digite o primeiro número: 4\n",
            "Digite o segundo número: 90\n",
            "O segundo número 90.0 é maior que o primeiro número 4.0\n"
          ]
        }
      ]
    },
    {
      "cell_type": "code",
      "source": [
        "    valor = float(input(\"Digite um valor: \"))\n",
        "\n",
        "    if valor > 0:\n",
        "        print(\"O valor\", valor, \"é positivo.\")\n",
        "    elif valor < 0:\n",
        "        print(\"O valor\", valor, \"é negativo.\")\n",
        "    else:\n",
        "        print(\"O valor é zero.\")"
      ],
      "metadata": {
        "colab": {
          "base_uri": "https://localhost:8080/"
        },
        "id": "c9Asn_9NLEHz",
        "outputId": "2c0f1f9f-f534-429b-c102-c916472876c8"
      },
      "execution_count": 14,
      "outputs": [
        {
          "output_type": "stream",
          "name": "stdout",
          "text": [
            "Digite um valor: -5\n",
            "O valor -5.0 é negativo.\n"
          ]
        }
      ]
    },
    {
      "cell_type": "code",
      "source": [
        "    nota1 = float(input(\"Digite a primeira nota: \"))\n",
        "    nota2 = float(input(\"Digite a segunda nota: \"))\n",
        "\n",
        "    media = (nota1 + nota2) / 2\n",
        "    if media >= 7:\n",
        "        print(\"Você foi aprovado\", media)\n",
        "    else:\n",
        "        print(\"Você foi reprovado\", media)"
      ],
      "metadata": {
        "colab": {
          "base_uri": "https://localhost:8080/"
        },
        "id": "fHTGslIGLxdI",
        "outputId": "6fa5eb7c-3fb1-451d-95d0-2cfc73463b94"
      },
      "execution_count": 18,
      "outputs": [
        {
          "output_type": "stream",
          "name": "stdout",
          "text": [
            "Digite a primeira nota: 7\n",
            "Digite a segunda nota: 7\n",
            "Você foi aprovado 7.0\n"
          ]
        }
      ]
    },
    {
      "cell_type": "code",
      "source": [
        "    numero1 = float(input(\"Digite o primeiro número: \"))\n",
        "    numero2 = float(input(\"Digite o segundo número: \"))\n",
        "    numero3 = float(input(\"Digite o terceiro número: \"))\n",
        "\n",
        "    if numero1 > numero2 and numero1 > numero3:\n",
        "     print(\"O maior número é o primeiro:\", numero1)\n",
        "    elif numero2 > numero1 and numero2 > numero3:\n",
        "     print(\"O maior número é o segundo:\", numero2)\n",
        "    else:\n",
        "      print(\"O maior número é o terceiro:\", numero3)"
      ],
      "metadata": {
        "colab": {
          "base_uri": "https://localhost:8080/"
        },
        "id": "0a7XhN4JMqpW",
        "outputId": "c6337053-6ae0-407f-e7da-91771f6af087"
      },
      "execution_count": 34,
      "outputs": [
        {
          "output_type": "stream",
          "name": "stdout",
          "text": [
            "Digite o primeiro número: 3\n",
            "Digite o segundo número: 5\n",
            "Digite o terceiro número: 4\n",
            "O maior número é o segundo: 5.0\n"
          ]
        }
      ]
    }
  ]
}