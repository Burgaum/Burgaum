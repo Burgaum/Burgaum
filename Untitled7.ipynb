{
  "nbformat": 4,
  "nbformat_minor": 0,
  "metadata": {
    "colab": {
      "provenance": []
    },
    "kernelspec": {
      "name": "python3",
      "display_name": "Python 3"
    },
    "language_info": {
      "name": "python"
    }
  },
  "cells": [
    {
      "cell_type": "code",
      "execution_count": 2,
      "metadata": {
        "colab": {
          "base_uri": "https://localhost:8080/"
        },
        "id": "z6GcOm-_otiL",
        "outputId": "98fe95b3-f1c4-4e55-f23e-72eae7b42b95"
      },
      "outputs": [
        {
          "output_type": "stream",
          "name": "stdout",
          "text": [
            "Digite um número: 3\n",
            "Digite um número: 3\n",
            "Digite um número: 4\n",
            "Digite um número: 2\n",
            "Digite um número: 5\n",
            "Digite um número: 6\n",
            "Digite um número: 1\n",
            "Digite um número: 9\n",
            "Digite um número: 7\n",
            "Digite um número: 8\n",
            "A quantidade de numeros pares é de:  4\n",
            "A quantidade de numeros impares é de:  6\n"
          ]
        }
      ],
      "source": [
        "pares = 0\n",
        "impares = 0\n",
        "for numero in range(0,10):\n",
        " numero = int(input(\"Digite um número: \"))\n",
        " if numero % 2 == 0:\n",
        "   pares += 1\n",
        " else:\n",
        "   impares += 1\n",
        "\n",
        "print(\"A quantidade de numeros pares é de: \", pares)\n",
        "print(\"A quantidade de numeros impares é de: \", impares)"
      ]
    }
  ]
}